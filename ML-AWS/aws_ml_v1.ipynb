{
 "cells": [
  {
   "cell_type": "code",
   "execution_count": 1,
   "id": "3cbeb4e3",
   "metadata": {},
   "outputs": [
    {
     "name": "stderr",
     "output_type": "stream",
     "text": [
      "/home/ec2-user/anaconda3/envs/python3/lib/python3.10/site-packages/pandas/core/computation/expressions.py:21: UserWarning: Pandas requires version '2.8.0' or newer of 'numexpr' (version '2.7.3' currently installed).\n",
      "  from pandas.core.computation.check import NUMEXPR_INSTALLED\n"
     ]
    },
    {
     "name": "stdout",
     "output_type": "stream",
     "text": [
      "sagemaker.config INFO - Not applying SDK defaults from location: /etc/xdg/sagemaker/config.yaml\n",
      "sagemaker.config INFO - Not applying SDK defaults from location: /home/ec2-user/.config/sagemaker/config.yaml\n"
     ]
    }
   ],
   "source": [
    "import sagemaker\n",
    "import boto3\n",
    "from sagemaker.amazon.amazon_estimator import get_image_uri\n",
    "from sagemaker.session import s3_input, Session"
   ]
  },
  {
   "cell_type": "code",
   "execution_count": 2,
   "id": "df7a9ec4",
   "metadata": {},
   "outputs": [
    {
     "name": "stdout",
     "output_type": "stream",
     "text": [
      "us-east-2\n"
     ]
    }
   ],
   "source": [
    "bucket_name = 'awsmlapp1'\n",
    "my_region = boto3.session.Session().region_name\n",
    "print(my_region)"
   ]
  },
  {
   "cell_type": "code",
   "execution_count": 3,
   "id": "49e93315",
   "metadata": {},
   "outputs": [
    {
     "name": "stdout",
     "output_type": "stream",
     "text": [
      "S3 error:  An error occurred (BucketAlreadyOwnedByYou) when calling the CreateBucket operation: Your previous request to create the named bucket succeeded and you already own it.\n"
     ]
    }
   ],
   "source": [
    "s3 = boto3.resource('s3')\n",
    "try:\n",
    "    if my_region == 'us-east-2':\n",
    "        s3.create_bucket(Bucket=bucket_name, CreateBucketConfiguration={'LocationConstraint': my_region})\n",
    "        print('S3 Bucket Created')\n",
    "except Exception as e:\n",
    "    print('S3 error: ', e)"
   ]
  },
  {
   "cell_type": "code",
   "execution_count": 4,
   "id": "2a5011c3",
   "metadata": {},
   "outputs": [
    {
     "name": "stdout",
     "output_type": "stream",
     "text": [
      "s3://awsmlapp1/xgboost/output\n"
     ]
    }
   ],
   "source": [
    "prefix = 'xgboost'\n",
    "output_path = 's3://{}/{}/output'.format(bucket_name, prefix)\n",
    "print(output_path)"
   ]
  },
  {
   "cell_type": "code",
   "execution_count": 5,
   "id": "db5a4b54",
   "metadata": {},
   "outputs": [],
   "source": [
    "pth = \"https://d1.awsstatic.com/tmt/build-train-deploy-machine-learning-model-sagemaker/bank_clean.27f01fbbdf43271788427f3682996ae29ceca05d.csv\""
   ]
  },
  {
   "cell_type": "code",
   "execution_count": 6,
   "id": "259c7e92",
   "metadata": {},
   "outputs": [],
   "source": [
    "import pandas as pd\n",
    "import urllib"
   ]
  },
  {
   "cell_type": "code",
   "execution_count": 7,
   "id": "d8a80581",
   "metadata": {},
   "outputs": [
    {
     "name": "stdout",
     "output_type": "stream",
     "text": [
      "Success\n"
     ]
    }
   ],
   "source": [
    "try:\n",
    "    urllib.request.urlretrieve(pth, \"clean-data.csv\")\n",
    "    print('Success')\n",
    "except Exception as e:\n",
    "    print('Error: ', e)"
   ]
  },
  {
   "cell_type": "code",
   "execution_count": 8,
   "id": "611373ac",
   "metadata": {},
   "outputs": [
    {
     "name": "stdout",
     "output_type": "stream",
     "text": [
      "Success\n"
     ]
    }
   ],
   "source": [
    "try:\n",
    "    df = pd.read_csv('./clean-data.csv', index_col=0)\n",
    "    print('Success')\n",
    "except Exception as e:\n",
    "    print('Error Loading data: ', e)"
   ]
  },
  {
   "cell_type": "code",
   "execution_count": 9,
   "id": "01185c72",
   "metadata": {},
   "outputs": [],
   "source": [
    "import numpy as np"
   ]
  },
  {
   "cell_type": "code",
   "execution_count": 10,
   "id": "4c3d5ba5",
   "metadata": {},
   "outputs": [
    {
     "name": "stdout",
     "output_type": "stream",
     "text": [
      "(28831, 61) (12357, 61)\n"
     ]
    },
    {
     "name": "stderr",
     "output_type": "stream",
     "text": [
      "/home/ec2-user/anaconda3/envs/python3/lib/python3.10/site-packages/numpy/core/fromnumeric.py:57: FutureWarning: 'DataFrame.swapaxes' is deprecated and will be removed in a future version. Please use 'DataFrame.transpose' instead.\n",
      "  return bound(*args, **kwds)\n"
     ]
    }
   ],
   "source": [
    "train, test = np.split(df.sample(frac=1, random_state=1), [int(0.7*len(df))])\n",
    "print(train.shape, test.shape)"
   ]
  },
  {
   "cell_type": "code",
   "execution_count": 13,
   "id": "d5afdcdf",
   "metadata": {},
   "outputs": [],
   "source": [
    "import os\n",
    "pd.concat([train['y_yes'], train.drop(['y_no', 'y_yes'], axis = 1)], axis = 1).to_csv('train.csv', index = False, header = False)\n",
    "boto3.Session().resource('s3').Bucket(bucket_name).Object(os.path.join(prefix, 'train/train.csv')).upload_file('train.csv')\n",
    "s3_input_train = sagemaker.TrainingInput(s3_data = 's3://{}/{}/train'.format(bucket_name, prefix), content_type = 'csv')"
   ]
  },
  {
   "cell_type": "code",
   "execution_count": 15,
   "id": "f625736a",
   "metadata": {},
   "outputs": [],
   "source": [
    "pd.concat([test['y_yes'], test.drop(['y_no', 'y_yes'], axis = 1)], axis = 1).to_csv('test.csv', index = False, header = False)\n",
    "boto3.Session().resource('s3').Bucket(bucket_name).Object(os.path.join(prefix, 'test/test.csv')).upload_file('test.csv')\n",
    "s3_input_test = sagemaker.TrainingInput(s3_data = 's3://{}/{}/test'.format(bucket_name, prefix), content_type = \"csv\")"
   ]
  },
  {
   "cell_type": "code",
   "execution_count": 16,
   "id": "e2535fc6",
   "metadata": {},
   "outputs": [
    {
     "name": "stderr",
     "output_type": "stream",
     "text": [
      "The method get_image_uri has been renamed in sagemaker>=2.\n",
      "See: https://sagemaker.readthedocs.io/en/stable/v2.html for details.\n"
     ]
    }
   ],
   "source": [
    "container = get_image_uri(boto3.Session().region_name,\n",
    "                          'xgboost',\n",
    "                          repo_version = '1.0-1'\n",
    "                         )"
   ]
  },
  {
   "cell_type": "code",
   "execution_count": 29,
   "id": "28560e5f",
   "metadata": {},
   "outputs": [],
   "source": [
    "hyperparameters = {\n",
    "    \"max_depth\" : \"5\",\n",
    "    \"eta\":\"0.2\",\n",
    "    \"gamma\":\"4\",\n",
    "    \"min_child_weight\":\"6\",\n",
    "    \"subsample\":\"0.7\",\n",
    "    \"objective\":\"binary:logistic\",\n",
    "    \"num_round\": \"20\",\n",
    "}"
   ]
  },
  {
   "cell_type": "code",
   "execution_count": 30,
   "id": "8968e09d",
   "metadata": {},
   "outputs": [
    {
     "name": "stderr",
     "output_type": "stream",
     "text": [
      "WARNING:sagemaker.deprecations:train_instance_count has been renamed in sagemaker>=2.\n",
      "See: https://sagemaker.readthedocs.io/en/stable/v2.html for details.\n",
      "WARNING:sagemaker.deprecations:train_instance_type has been renamed in sagemaker>=2.\n",
      "See: https://sagemaker.readthedocs.io/en/stable/v2.html for details.\n",
      "WARNING:sagemaker.deprecations:train_max_run has been renamed in sagemaker>=2.\n",
      "See: https://sagemaker.readthedocs.io/en/stable/v2.html for details.\n",
      "WARNING:sagemaker.deprecations:train_use_spot_instances has been renamed in sagemaker>=2.\n",
      "See: https://sagemaker.readthedocs.io/en/stable/v2.html for details.\n",
      "WARNING:sagemaker.deprecations:train_max_wait has been renamed in sagemaker>=2.\n",
      "See: https://sagemaker.readthedocs.io/en/stable/v2.html for details.\n"
     ]
    }
   ],
   "source": [
    "estimator = sagemaker.estimator.Estimator(image_uri=container,\n",
    "                                          hyperparameters = hyperparameters,\n",
    "                                          role = sagemaker.get_execution_role(),\n",
    "                                          train_instance_count = 1,\n",
    "                                          train_instance_type = 'ml.m5.2xlarge',\n",
    "                                          train_volume_sizes = 5,\n",
    "                                          output_path = output_path,\n",
    "                                          train_use_spot_instances = True,\n",
    "                                          train_max_run = 300,\n",
    "                                          train_max_wait = 600)\n",
    "                                          "
   ]
  },
  {
   "cell_type": "code",
   "execution_count": 31,
   "id": "3b4afe83",
   "metadata": {},
   "outputs": [
    {
     "name": "stderr",
     "output_type": "stream",
     "text": [
      "INFO:sagemaker:Creating training-job with name: sagemaker-xgboost-2024-01-31-19-59-43-627\n"
     ]
    },
    {
     "name": "stdout",
     "output_type": "stream",
     "text": [
      "2024-01-31 19:59:43 Starting - Starting the training job...\n",
      "2024-01-31 19:59:58 Starting - Preparing the instances for training......\n",
      "2024-01-31 20:00:55 Downloading - Downloading input data...\n",
      "2024-01-31 20:01:36 Training - Training image download completed. Training in progress....\n",
      "2024-01-31 20:02:12 Uploading - Uploading generated training model\n",
      "2024-01-31 20:02:12 Completed - Training job completed\n",
      "\u001b[34m[2024-01-31 20:01:56.650 ip-10-0-179-230.us-east-2.compute.internal:7 INFO utils.py:27] RULE_JOB_STOP_SIGNAL_FILENAME: None\u001b[0m\n",
      "\u001b[34mINFO:sagemaker-containers:Imported framework sagemaker_xgboost_container.training\u001b[0m\n",
      "\u001b[34mINFO:sagemaker-containers:Failed to parse hyperparameter objective value binary:logistic to Json.\u001b[0m\n",
      "\u001b[34mReturning the value itself\u001b[0m\n",
      "\u001b[34mINFO:sagemaker-containers:No GPUs detected (normal if no gpus installed)\u001b[0m\n",
      "\u001b[34mINFO:sagemaker_xgboost_container.training:Running XGBoost Sagemaker in algorithm mode\u001b[0m\n",
      "\u001b[34mINFO:root:Determined delimiter of CSV input is ','\u001b[0m\n",
      "\u001b[34mINFO:root:Determined delimiter of CSV input is ','\u001b[0m\n",
      "\u001b[34mINFO:root:Determined delimiter of CSV input is ','\u001b[0m\n",
      "\u001b[34mINFO:root:Determined delimiter of CSV input is ','\u001b[0m\n",
      "\u001b[34mINFO:root:Single node training.\u001b[0m\n",
      "\u001b[34m[20:01:56] 28831x59 matrix with 1701029 entries loaded from /opt/ml/input/data/train?format=csv&label_column=0&delimiter=,\u001b[0m\n",
      "\u001b[34m[20:01:56] 12357x59 matrix with 729063 entries loaded from /opt/ml/input/data/validation?format=csv&label_column=0&delimiter=,\u001b[0m\n",
      "\u001b[34m[2024-01-31 20:01:56.811 ip-10-0-179-230.us-east-2.compute.internal:7 INFO json_config.py:91] Creating hook from json_config at /opt/ml/input/config/debughookconfig.json.\u001b[0m\n",
      "\u001b[34m[2024-01-31 20:01:56.812 ip-10-0-179-230.us-east-2.compute.internal:7 INFO hook.py:201] tensorboard_dir has not been set for the hook. SMDebug will not be exporting tensorboard summaries.\u001b[0m\n",
      "\u001b[34m[2024-01-31 20:01:56.812 ip-10-0-179-230.us-east-2.compute.internal:7 INFO profiler_config_parser.py:102] User has disabled profiler.\u001b[0m\n",
      "\u001b[34m[2024-01-31 20:01:56.812 ip-10-0-179-230.us-east-2.compute.internal:7 INFO hook.py:255] Saving to /opt/ml/output/tensors\u001b[0m\n",
      "\u001b[34m[2024-01-31 20:01:56.812 ip-10-0-179-230.us-east-2.compute.internal:7 INFO state_store.py:77] The checkpoint config file /opt/ml/input/config/checkpointconfig.json does not exist.\u001b[0m\n",
      "\u001b[34mINFO:root:Debug hook created from config\u001b[0m\n",
      "\u001b[34mINFO:root:Train matrix has 28831 rows\u001b[0m\n",
      "\u001b[34mINFO:root:Validation matrix has 12357 rows\u001b[0m\n",
      "\u001b[34m[20:01:56] WARNING: /workspace/src/learner.cc:328: \u001b[0m\n",
      "\u001b[34mParameters: { num_round } might not be used.\n",
      "  This may not be accurate due to some parameters are only used in language bindings but\n",
      "  passed down to XGBoost core.  Or some parameters are not used but slip through this\n",
      "  verification. Please open an issue if you find above cases.\u001b[0m\n",
      "\u001b[34m[0]#011train-error:0.10360#011validation-error:0.10383\u001b[0m\n",
      "\u001b[34m[2024-01-31 20:01:56.872 ip-10-0-179-230.us-east-2.compute.internal:7 INFO hook.py:423] Monitoring the collections: metrics\u001b[0m\n",
      "\u001b[34m[2024-01-31 20:01:56.874 ip-10-0-179-230.us-east-2.compute.internal:7 INFO hook.py:486] Hook is writing from the hook with pid: 7\u001b[0m\n",
      "\u001b[34m[1]#011train-error:0.10145#011validation-error:0.10027\u001b[0m\n",
      "\u001b[34m[2]#011train-error:0.10142#011validation-error:0.09994\u001b[0m\n",
      "\u001b[34m[3]#011train-error:0.10138#011validation-error:0.09938\u001b[0m\n",
      "\u001b[34m[4]#011train-error:0.10163#011validation-error:0.09938\u001b[0m\n",
      "\u001b[34m[5]#011train-error:0.10149#011validation-error:0.09938\u001b[0m\n",
      "\u001b[34m[6]#011train-error:0.10149#011validation-error:0.09913\u001b[0m\n",
      "\u001b[34m[7]#011train-error:0.10163#011validation-error:0.09905\u001b[0m\n",
      "\u001b[34m[8]#011train-error:0.10128#011validation-error:0.09921\u001b[0m\n",
      "\u001b[34m[9]#011train-error:0.10149#011validation-error:0.09930\u001b[0m\n",
      "\u001b[34m[10]#011train-error:0.10138#011validation-error:0.09938\u001b[0m\n",
      "\u001b[34m[11]#011train-error:0.10149#011validation-error:0.09970\u001b[0m\n",
      "\u001b[34m[12]#011train-error:0.10111#011validation-error:0.09962\u001b[0m\n",
      "\u001b[34m[13]#011train-error:0.10107#011validation-error:0.09954\u001b[0m\n",
      "\u001b[34m[14]#011train-error:0.10104#011validation-error:0.09986\u001b[0m\n",
      "\u001b[34m[15]#011train-error:0.10086#011validation-error:0.09994\u001b[0m\n",
      "\u001b[34m[16]#011train-error:0.10076#011validation-error:0.09978\u001b[0m\n",
      "\u001b[34m[17]#011train-error:0.10100#011validation-error:0.09986\u001b[0m\n",
      "\u001b[34m[18]#011train-error:0.10079#011validation-error:0.10002\u001b[0m\n",
      "\u001b[34m[19]#011train-error:0.10055#011validation-error:0.09978\u001b[0m\n",
      "Training seconds: 77\n",
      "Billable seconds: 29\n",
      "Managed Spot Training savings: 62.3%\n"
     ]
    }
   ],
   "source": [
    "estimator.fit({'train': s3_input_train, 'validation': s3_input_test})"
   ]
  },
  {
   "cell_type": "code",
   "execution_count": 32,
   "id": "d3105668",
   "metadata": {},
   "outputs": [
    {
     "name": "stderr",
     "output_type": "stream",
     "text": [
      "INFO:sagemaker:Creating model with name: sagemaker-xgboost-2024-01-31-20-06-40-500\n",
      "INFO:sagemaker:Creating endpoint-config with name sagemaker-xgboost-2024-01-31-20-06-40-500\n",
      "INFO:sagemaker:Creating endpoint with name sagemaker-xgboost-2024-01-31-20-06-40-500\n"
     ]
    },
    {
     "name": "stdout",
     "output_type": "stream",
     "text": [
      "-----!"
     ]
    }
   ],
   "source": [
    "xgb_predictor = estimator.deploy(initial_instance_count = 1, instance_type = 'ml.m4.xlarge')"
   ]
  },
  {
   "cell_type": "code",
   "execution_count": 35,
   "id": "61e71585",
   "metadata": {
    "scrolled": true
   },
   "outputs": [],
   "source": [
    "from sagemaker.serializers import CSVSerializer"
   ]
  },
  {
   "cell_type": "code",
   "execution_count": 36,
   "id": "57cfb4d1",
   "metadata": {},
   "outputs": [
    {
     "name": "stdout",
     "output_type": "stream",
     "text": [
      "(12357,)\n"
     ]
    }
   ],
   "source": [
    "csv_serializer = CSVSerializer()\n",
    "test_data_array = test.drop(['y_no', 'y_yes'], axis = 1).values\n",
    "xgb_predictor.content_type = 'text/csv' # set the data type for an inference\n",
    "xgb_predictor.serializer = csv_serializer # set the serializer type\n",
    "predictions = xgb_predictor.predict(test_data_array).decode('utf-8') # predict!\n",
    "predictions_array = np.fromstring(predictions[1:], sep=',') # and turn the prediction into an array\n",
    "print(predictions_array.shape)"
   ]
  },
  {
   "cell_type": "code",
   "execution_count": 38,
   "id": "c4e37e27",
   "metadata": {},
   "outputs": [
    {
     "name": "stdout",
     "output_type": "stream",
     "text": [
      "\n",
      "Overall Classification Rate: 90.0%\n",
      "\n",
      "Predicted      No Purchase    Purchase\n",
      "Observed\n",
      "No Purchase    91% (10866)    36% (143)\n",
      "Purchase        9% (1090)     64% (258) \n",
      "\n"
     ]
    }
   ],
   "source": [
    "cm = pd.crosstab(index=test['y_yes'], columns=np.round(predictions_array), rownames=['Observed'], colnames=['Predicted'])\n",
    "tn = cm.iloc[0,0]; fn = cm.iloc[1,0]; tp = cm.iloc[1,1]; fp = cm.iloc[0,1]; p = (tp+tn)/(tp+tn+fp+fn)*100\n",
    "print(\"\\n{0:<20}{1:<4.1f}%\\n\".format(\"Overall Classification Rate: \", p))\n",
    "print(\"{0:<15}{1:<15}{2:>8}\".format(\"Predicted\", \"No Purchase\", \"Purchase\"))\n",
    "print(\"Observed\")\n",
    "print(\"{0:<15}{1:<2.0f}% ({2:<}){3:>6.0f}% ({4:<})\".format(\"No Purchase\", tn/(tn+fn)*100,tn, fp/(tp+fp)*100, fp))\n",
    "print(\"{0:<16}{1:<1.0f}% ({2:<}){3:>7.0f}% ({4:<}) \\n\".format(\"Purchase\", fn/(tn+fn)*100,fn, tp/(tp+fp)*100, tp))"
   ]
  },
  {
   "cell_type": "code",
   "execution_count": 39,
   "id": "18c74bf2",
   "metadata": {},
   "outputs": [
    {
     "name": "stderr",
     "output_type": "stream",
     "text": [
      "WARNING:sagemaker.deprecations:The endpoint attribute has been renamed in sagemaker>=2.\n",
      "See: https://sagemaker.readthedocs.io/en/stable/v2.html for details.\n",
      "INFO:sagemaker:Deleting endpoint with name: sagemaker-xgboost-2024-01-31-20-06-40-500\n"
     ]
    },
    {
     "data": {
      "text/plain": [
       "[{'ResponseMetadata': {'RequestId': 'JHY729J612V9TM90',\n",
       "   'HostId': 'EODajOsbDRHXVUhXxk6OkGrruV+qDJg4hLXjwwL5Fm9zebmYHJmAuPvM7XMGO0IuIUCt04FOiGQ=',\n",
       "   'HTTPStatusCode': 200,\n",
       "   'HTTPHeaders': {'x-amz-id-2': 'EODajOsbDRHXVUhXxk6OkGrruV+qDJg4hLXjwwL5Fm9zebmYHJmAuPvM7XMGO0IuIUCt04FOiGQ=',\n",
       "    'x-amz-request-id': 'JHY729J612V9TM90',\n",
       "    'date': 'Wed, 31 Jan 2024 20:18:39 GMT',\n",
       "    'content-type': 'application/xml',\n",
       "    'transfer-encoding': 'chunked',\n",
       "    'server': 'AmazonS3',\n",
       "    'connection': 'close'},\n",
       "   'RetryAttempts': 0},\n",
       "  'Deleted': [{'Key': 'xgboost/output/sagemaker-xgboost-2024-01-31-19-53-22-490/profiler-output/system/incremental/2024013119/1706730900.algo-1.json'},\n",
       "   {'Key': 'xgboost/output/sagemaker-xgboost-2024-01-31-19-59-43-627/debug-output/index/000000000/000000000010_worker_0.json'},\n",
       "   {'Key': 'xgboost/output/sagemaker-xgboost-2024-01-31-19-59-43-627/debug-output/claim.smd'},\n",
       "   {'Key': 'xgboost/output/sagemaker-xgboost-2024-01-31-19-59-43-627/output/model.tar.gz'},\n",
       "   {'Key': 'xgboost/output/sagemaker-xgboost-2024-01-31-19-53-22-490/profiler-output/system/training_job_end.ts'},\n",
       "   {'Key': 'xgboost/output/sagemaker-xgboost-2024-01-31-19-59-43-627/debug-output/index/000000000/000000000000_worker_0.json'},\n",
       "   {'Key': 'xgboost/output/sagemaker-xgboost-2024-01-31-19-59-43-627/debug-output/events/000000000000/000000000000_worker_0.tfevents'},\n",
       "   {'Key': 'xgboost/output/sagemaker-xgboost-2024-01-31-19-53-22-490/profiler-output/framework/training_job_end.ts'},\n",
       "   {'Key': 'xgboost/output/sagemaker-xgboost-2024-01-31-19-59-43-627/debug-output/collections/000000000/worker_0_collections.json'},\n",
       "   {'Key': 'xgboost/output/sagemaker-xgboost-2024-01-31-19-53-22-490/profiler-output/system/incremental/2024013119/1706730840.algo-1.json'},\n",
       "   {'Key': 'xgboost/test/test.csv'},\n",
       "   {'Key': 'xgboost/output/sagemaker-xgboost-2024-01-31-19-54-16-229/profiler-output/framework/training_job_end.ts'},\n",
       "   {'Key': 'xgboost/output/sagemaker-xgboost-2024-01-31-19-59-43-627/profiler-output/system/incremental/2024013120/1706731200.algo-1.json'},\n",
       "   {'Key': 'xgboost/output/sagemaker-xgboost-2024-01-31-19-59-43-627/debug-output/events/000000000010/000000000010_worker_0.tfevents'},\n",
       "   {'Key': 'xgboost/output/sagemaker-xgboost-2024-01-31-19-54-16-229/profiler-output/system/incremental/2024013119/1706730900.algo-1.json'},\n",
       "   {'Key': 'xgboost/output/sagemaker-xgboost-2024-01-31-19-54-16-229/profiler-output/system/incremental/2024013119/1706730960.algo-1.json'},\n",
       "   {'Key': 'xgboost/output/sagemaker-xgboost-2024-01-31-19-54-16-229/debug-output/training_job_end.ts'},\n",
       "   {'Key': 'xgboost/output/sagemaker-xgboost-2024-01-31-19-59-43-627/profiler-output/system/training_job_end.ts'},\n",
       "   {'Key': 'xgboost/output/sagemaker-xgboost-2024-01-31-19-54-16-229/profiler-output/system/training_job_end.ts'},\n",
       "   {'Key': 'xgboost/train/train.csv'},\n",
       "   {'Key': 'xgboost/output/sagemaker-xgboost-2024-01-31-19-53-22-490/debug-output/training_job_end.ts'},\n",
       "   {'Key': 'xgboost/output/sagemaker-xgboost-2024-01-31-19-59-43-627/profiler-output/framework/training_job_end.ts'},\n",
       "   {'Key': 'xgboost/output/sagemaker-xgboost-2024-01-31-19-59-43-627/profiler-output/system/incremental/2024013120/1706731260.algo-1.json'},\n",
       "   {'Key': 'xgboost/output/sagemaker-xgboost-2024-01-31-19-59-43-627/profiler-output/system/incremental/2024013120/1706731320.algo-1.json'},\n",
       "   {'Key': 'xgboost/output/sagemaker-xgboost-2024-01-31-19-59-43-627/debug-output/training_job_end.ts'}]}]"
      ]
     },
     "execution_count": 39,
     "metadata": {},
     "output_type": "execute_result"
    }
   ],
   "source": [
    "sagemaker.Session().delete_endpoint(xgb_predictor.endpoint)\n",
    "bucket_to_delete = boto3.resource('s3').Bucket(bucket_name)\n",
    "bucket_to_delete.objects.all().delete()"
   ]
  },
  {
   "cell_type": "code",
   "execution_count": null,
   "id": "e322bc1c",
   "metadata": {},
   "outputs": [],
   "source": []
  }
 ],
 "metadata": {
  "kernelspec": {
   "display_name": "conda_python3",
   "language": "python",
   "name": "conda_python3"
  },
  "language_info": {
   "codemirror_mode": {
    "name": "ipython",
    "version": 3
   },
   "file_extension": ".py",
   "mimetype": "text/x-python",
   "name": "python",
   "nbconvert_exporter": "python",
   "pygments_lexer": "ipython3",
   "version": "3.10.13"
  }
 },
 "nbformat": 4,
 "nbformat_minor": 5
}
